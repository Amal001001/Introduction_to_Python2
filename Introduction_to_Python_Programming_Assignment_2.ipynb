{
 "cells": [
  {
   "cell_type": "markdown",
   "id": "ebdc2be9",
   "metadata": {},
   "source": [
    "# Assignment II: Introduction to Python Programming"
   ]
  },
  {
   "cell_type": "markdown",
   "id": "ba221659",
   "metadata": {},
   "source": [
    "This assignment is important for you to demonstrate your ability to write functions using only basic building blocks of Python, rather than relying on built-in functions, so that you can continue to get more comfortable using lists, other data types, for loops, and your own functions so that you can perform more customized and complex tasks."
   ]
  },
  {
   "cell_type": "markdown",
   "id": "1aa5b351",
   "metadata": {},
   "source": [
    "### 1. Biggie Size - Given a list, write a function that changes all positive numbers in the list to \"big\"."
   ]
  },
  {
   "cell_type": "code",
   "execution_count": 29,
   "id": "e2a39ba4",
   "metadata": {},
   "outputs": [
    {
     "data": {
      "text/plain": [
       "[-1, 'big', 'big', -5]"
      ]
     },
     "execution_count": 29,
     "metadata": {},
     "output_type": "execute_result"
    }
   ],
   "source": [
    "def biggie_size(list_input):\n",
    "    \n",
    "    new_list = []\n",
    "    for x in list_input:\n",
    "        \n",
    "        if (x > 0):\n",
    "            new_list.append(\"big\")\n",
    "        else:\n",
    "            new_list.append(x)\n",
    "\n",
    "    return(new_list)\n",
    "\n",
    "biggie_size([-1, 3, 5, -5])"
   ]
  },
  {
   "cell_type": "markdown",
   "id": "51b3fee8",
   "metadata": {},
   "source": [
    "### 2. Count Positives - Given a list of numbers, create a function to replace the last value with the number of positive values.\n",
    "(Note: that zero is not considered to be a positive number)."
   ]
  },
  {
   "cell_type": "code",
   "execution_count": 31,
   "id": "5a04778c",
   "metadata": {},
   "outputs": [
    {
     "data": {
      "text/plain": [
       "[-1, 1, 1, 3]"
      ]
     },
     "execution_count": 31,
     "metadata": {},
     "output_type": "execute_result"
    }
   ],
   "source": [
    "def count_positives(list_input):\n",
    "    \n",
    "    new_list = []\n",
    "    positive_values_count = 0\n",
    "    \n",
    "    for x in list_input:\n",
    "        if (x > 0):\n",
    "            positive_values_count += 1\n",
    "            new_list.append(x)\n",
    "        else:\n",
    "            new_list.append(x)\n",
    "            \n",
    "    new_list[-1] = positive_values_count\n",
    "    \n",
    "    return(new_list)\n",
    "\n",
    "count_positives([-1,1,1,1])"
   ]
  },
  {
   "cell_type": "code",
   "execution_count": 38,
   "id": "f6d2f671",
   "metadata": {},
   "outputs": [
    {
     "data": {
      "text/plain": [
       "[1, 6, -4, -2, -7, 2]"
      ]
     },
     "execution_count": 38,
     "metadata": {},
     "output_type": "execute_result"
    }
   ],
   "source": [
    "count_positives([1,6,-4,-2,-7,-2])"
   ]
  },
  {
   "cell_type": "markdown",
   "id": "f43d90a2",
   "metadata": {},
   "source": [
    "### 3. Sum Total - Create a function that takes a list and returns the sum of all the values in the array."
   ]
  },
  {
   "cell_type": "code",
   "execution_count": 32,
   "id": "7b1c9468",
   "metadata": {},
   "outputs": [
    {
     "data": {
      "text/plain": [
       "10"
      ]
     },
     "execution_count": 32,
     "metadata": {},
     "output_type": "execute_result"
    }
   ],
   "source": [
    "def sum_total(list_input):\n",
    "    \n",
    "    sum_total = 0\n",
    "    \n",
    "    for x in list_input:\n",
    "            sum_total += x\n",
    "    \n",
    "    return(sum_total)\n",
    "\n",
    "sum_total([1,2,3,4])"
   ]
  },
  {
   "cell_type": "code",
   "execution_count": 39,
   "id": "eba2dc7a",
   "metadata": {},
   "outputs": [
    {
     "data": {
      "text/plain": [
       "7"
      ]
     },
     "execution_count": 39,
     "metadata": {},
     "output_type": "execute_result"
    }
   ],
   "source": [
    "sum_total([6,3,-2])"
   ]
  },
  {
   "cell_type": "markdown",
   "id": "f22181f1",
   "metadata": {},
   "source": [
    "### 4. Average - Create a function that takes a list and returns the average of all the values."
   ]
  },
  {
   "cell_type": "code",
   "execution_count": 33,
   "id": "a8d94849",
   "metadata": {},
   "outputs": [
    {
     "data": {
      "text/plain": [
       "2.5"
      ]
     },
     "execution_count": 33,
     "metadata": {},
     "output_type": "execute_result"
    }
   ],
   "source": [
    "def average(list_input):\n",
    "    \n",
    "    sum_total = 0\n",
    "    counter = 0\n",
    "    \n",
    "    for x in list_input:\n",
    "            sum_total += x\n",
    "            counter += 1\n",
    "    \n",
    "    return(sum_total/counter)\n",
    "\n",
    "average([1,2,3,4])"
   ]
  },
  {
   "cell_type": "markdown",
   "id": "ca6503fc",
   "metadata": {},
   "source": [
    "### 5. Length - Create a function that takes a list and returns the length of the list."
   ]
  },
  {
   "cell_type": "code",
   "execution_count": 36,
   "id": "249f27c8",
   "metadata": {},
   "outputs": [
    {
     "data": {
      "text/plain": [
       "4"
      ]
     },
     "execution_count": 36,
     "metadata": {},
     "output_type": "execute_result"
    }
   ],
   "source": [
    "def length(list_input):\n",
    "    \n",
    "    counter = 0\n",
    "    \n",
    "    for x in list_input:\n",
    "            counter += 1\n",
    "    \n",
    "    return(counter)\n",
    "\n",
    "length([37,2,1,-9])"
   ]
  },
  {
   "cell_type": "code",
   "execution_count": 37,
   "id": "1433e063",
   "metadata": {},
   "outputs": [
    {
     "data": {
      "text/plain": [
       "0"
      ]
     },
     "execution_count": 37,
     "metadata": {},
     "output_type": "execute_result"
    }
   ],
   "source": [
    "length([])"
   ]
  },
  {
   "cell_type": "markdown",
   "id": "1504b815",
   "metadata": {},
   "source": [
    "### 6. Minimum - Create a function that takes a list of numbers and returns the minimum value in the list.\n",
    "(Optional) If the list is empty, have the function return False."
   ]
  },
  {
   "cell_type": "code",
   "execution_count": 67,
   "id": "5d2484bd",
   "metadata": {},
   "outputs": [
    {
     "data": {
      "text/plain": [
       "-9"
      ]
     },
     "execution_count": 67,
     "metadata": {},
     "output_type": "execute_result"
    }
   ],
   "source": [
    "def minimum(list_input):\n",
    "    \n",
    "    min_value = 0\n",
    "    counter = 0\n",
    "    \n",
    "    for x in list_input:\n",
    "\n",
    "        if (x < min_value):\n",
    "            min_value = x\n",
    "            return(min_value)\n",
    "\n",
    "        counter += 1\n",
    "        \n",
    "    if (counter == 0):\n",
    "            return False\n",
    "\n",
    "minimum([37,2,1,-9])"
   ]
  },
  {
   "cell_type": "code",
   "execution_count": 68,
   "id": "4e98ece9",
   "metadata": {},
   "outputs": [
    {
     "data": {
      "text/plain": [
       "False"
      ]
     },
     "execution_count": 68,
     "metadata": {},
     "output_type": "execute_result"
    }
   ],
   "source": [
    "minimum([])"
   ]
  },
  {
   "cell_type": "markdown",
   "id": "9a51c5c9",
   "metadata": {},
   "source": [
    "### 7. Maximum - Create a function that takes a list and returns the maximum value in the array.\n",
    "(Optional) If the list is empty, have the function return False."
   ]
  },
  {
   "cell_type": "code",
   "execution_count": 65,
   "id": "64561b3d",
   "metadata": {},
   "outputs": [
    {
     "data": {
      "text/plain": [
       "37"
      ]
     },
     "execution_count": 65,
     "metadata": {},
     "output_type": "execute_result"
    }
   ],
   "source": [
    "def maximum(list_input):\n",
    "    \n",
    "    max_value = 0\n",
    "    counter = 0\n",
    "    \n",
    "    for x in list_input:\n",
    "\n",
    "        if (x > max_value):\n",
    "            max_value = x\n",
    "            return(max_value)\n",
    "\n",
    "        counter += 1\n",
    "        \n",
    "    if (counter == 0):\n",
    "            return False\n",
    "    \n",
    "maximum([37,2,1,-9])"
   ]
  },
  {
   "cell_type": "code",
   "execution_count": 66,
   "id": "63d5c20f",
   "metadata": {},
   "outputs": [
    {
     "data": {
      "text/plain": [
       "False"
      ]
     },
     "execution_count": 66,
     "metadata": {},
     "output_type": "execute_result"
    }
   ],
   "source": [
    "maximum([])"
   ]
  },
  {
   "cell_type": "markdown",
   "id": "83a3d2b3",
   "metadata": {},
   "source": [
    "### 8. Ultimate Analysis (Optional) - Create a function that takes a list and returns a dictionary that has the sumTotal, average, minimum, maximum, and length of the list."
   ]
  },
  {
   "cell_type": "code",
   "execution_count": 69,
   "id": "cb979c80",
   "metadata": {},
   "outputs": [
    {
     "data": {
      "text/plain": [
       "{'sumTotal': 31, 'average': 7.75, 'minimum': -9, 'maximum': 37, 'length': 4}"
      ]
     },
     "execution_count": 69,
     "metadata": {},
     "output_type": "execute_result"
    }
   ],
   "source": [
    "def ultimate_analysis(list_input):\n",
    "    \n",
    "    ultimate_analysis = {}\n",
    "    \n",
    "    ultimate_analysis['sumTotal'] = sum_total(list_input)\n",
    "    ultimate_analysis['average'] = average(list_input)\n",
    "    ultimate_analysis['minimum'] = minimum(list_input)\n",
    "    ultimate_analysis['maximum'] = maximum(list_input)\n",
    "    ultimate_analysis['length'] = length(list_input)\n",
    "    \n",
    "    return(ultimate_analysis)\n",
    "\n",
    "ultimate_analysis([37,2,1,-9])"
   ]
  },
  {
   "cell_type": "code",
   "execution_count": 111,
   "id": "c2dc2e02",
   "metadata": {},
   "outputs": [
    {
     "data": {
      "text/plain": [
       "[-9, 1, 2, 37]"
      ]
     },
     "execution_count": 111,
     "metadata": {},
     "output_type": "execute_result"
    }
   ],
   "source": [
    "def reverse_list(list_input):\n",
    "    \n",
    "    counter = 0\n",
    "    \n",
    "    for x in list_input:\n",
    "            counter += 1\n",
    "    \n",
    "    index_number = 0\n",
    "    y = 1\n",
    "    \n",
    "    for x in list_input:\n",
    "        if (counter%2 == 0):\n",
    "            while (y <= (counter/2)):\n",
    "                \n",
    "                holder1 = list_input[index_number]\n",
    "                holder2 = list_input[(index_number*(-1)) -1]\n",
    "                \n",
    "                list_input[index_number] = holder2\n",
    "                list_input[(index_number*(-1)) -1] = holder1\n",
    "                \n",
    "                index_number += 1\n",
    "                y += 1\n",
    "            \n",
    "        else:\n",
    "            counter -= 1\n",
    "            while (y <= (counter/2)):\n",
    "                \n",
    "                holder1 = list_input[index_number]\n",
    "                holder2 = list_input[(index_number*(-1)) -1]\n",
    "                \n",
    "                list_input[index_number] = holder2\n",
    "                list_input[(index_number*(-1)) -1] = holder1\n",
    "                \n",
    "                index_number += 1\n",
    "                y += 1\n",
    "            \n",
    "    return(list_input)\n",
    "\n",
    "reverse_list([37,2,1,-9])"
   ]
  },
  {
   "cell_type": "code",
   "execution_count": 112,
   "id": "3e5892c1",
   "metadata": {},
   "outputs": [
    {
     "data": {
      "text/plain": [
       "[-9, 1, 3, 2, 37]"
      ]
     },
     "execution_count": 112,
     "metadata": {},
     "output_type": "execute_result"
    }
   ],
   "source": [
    "reverse_list([37,2,3,1,-9])"
   ]
  }
 ],
 "metadata": {
  "kernelspec": {
   "display_name": "Python 3 (ipykernel)",
   "language": "python",
   "name": "python3"
  },
  "language_info": {
   "codemirror_mode": {
    "name": "ipython",
    "version": 3
   },
   "file_extension": ".py",
   "mimetype": "text/x-python",
   "name": "python",
   "nbconvert_exporter": "python",
   "pygments_lexer": "ipython3",
   "version": "3.9.12"
  }
 },
 "nbformat": 4,
 "nbformat_minor": 5
}
